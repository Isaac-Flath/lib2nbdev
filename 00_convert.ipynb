{
 "cells": [
  {
   "cell_type": "code",
   "execution_count": null,
   "metadata": {},
   "outputs": [],
   "source": [
    "# default_exp convert"
   ]
  },
  {
   "cell_type": "markdown",
   "metadata": {},
   "source": [
    "# The Converter\n",
    "\n",
    "> The internals for the lib2nbdev functionality"
   ]
  },
  {
   "cell_type": "code",
   "execution_count": null,
   "metadata": {},
   "outputs": [],
   "source": [
    "#hide\n",
    "from nbdev.showdoc import *"
   ]
  },
  {
   "cell_type": "code",
   "execution_count": null,
   "metadata": {},
   "outputs": [],
   "source": [
    "#hide\n",
    "from fastcore.test import *"
   ]
  },
  {
   "cell_type": "code",
   "execution_count": null,
   "metadata": {},
   "outputs": [],
   "source": [
    "#export\n",
    "from fastcore.basics import Path\n",
    "from fastcore.foundation import Config\n",
    "from fastcore.script import call_parse\n",
    "\n",
    "from fastprogress.fastprogress import progress_bar\n",
    "\n",
    "from nbdev.export import nbglob, export_names, _re_class_func_def, _re_obj_def\n",
    "from nbdev.sync import _split"
   ]
  },
  {
   "cell_type": "markdown",
   "metadata": {},
   "source": [
    "## Foundational Helper Functions"
   ]
  },
  {
   "cell_type": "code",
   "execution_count": null,
   "metadata": {},
   "outputs": [],
   "source": [
    "#export\n",
    "def start_cell() -> str:\n",
    "    \"\"\"\n",
    "    Returns a blank Jupyter cell\n",
    "    \"\"\"\n",
    "    return '''{\n",
    "   \"cell_type\": \"code\",\n",
    "   \"execution_count\": null,\n",
    "   \"metadata\": {},\n",
    "   \"outputs\": [],'''"
   ]
  },
  {
   "cell_type": "markdown",
   "metadata": {},
   "source": [
    "A very simplistic and foundational function, it simply returns a string representation of a blank Jupyter cell without any metadata. Any information that should be filled in needs to be centralized to `outputs`"
   ]
  },
  {
   "cell_type": "code",
   "execution_count": null,
   "metadata": {},
   "outputs": [],
   "source": [
    "#hide\n",
    "_default_cell = '''{\n",
    "   \"cell_type\": \"code\",\n",
    "   \"execution_count\": null,\n",
    "   \"metadata\": {},\n",
    "   \"outputs\": [],'''\n",
    "test_eq(_default_cell, start_cell())"
   ]
  },
  {
   "cell_type": "code",
   "execution_count": null,
   "metadata": {},
   "outputs": [],
   "source": [
    "#export\n",
    "def init_nb(module_name:str) -> str:\n",
    "    \"\"\"\n",
    "    Initializes a blank notebook based on `module_name`\n",
    "\n",
    "    Also writes the first #default_exp cell and checks for a nested module (moduleA.moduleB)\n",
    "    \"\"\"\n",
    "    if module_name[0] == '.': module_name = module_name.split('.')[1]\n",
    "    if '.ipynb' in module_name: module_name = module_name.split('.ipynb')[0]\n",
    "    return '{\\n \"cells\": [' + start_cell() + f'''\n",
    "   \"source\": [\\n    \"# default_exp {module_name}\"\n",
    "   ''' + ']\\n  },'"
   ]
  },
  {
   "cell_type": "code",
   "execution_count": null,
   "metadata": {},
   "outputs": [],
   "source": [
    "#hide\n",
    "_initial_nb = '{\\n \"cells\": [{\\n   \"cell_type\": \"code\",\\n   \"execution_count\": null,\\n   \"metadata\": {},\\n   \"outputs\": [],\\n   \"source\": [\\n    \"# default_exp testname\"\\n   ]\\n  },'\n",
    "test_eq(_initial_nb, init_nb(\"testname\"))"
   ]
  },
  {
   "cell_type": "code",
   "execution_count": null,
   "metadata": {},
   "outputs": [],
   "source": [
    "#export\n",
    "def write_cell(code:str, is_public:bool=False) -> str:\n",
    "    \"\"\"\n",
    "    Takes source `code`, adds an initial #export tag, and writes a Jupyter cell\n",
    "    \"\"\"\n",
    "    if is_public is None: export = ''\n",
    "    export = '#export' if is_public else '#exporti'\n",
    "    cell = start_cell() + \\\n",
    "    f'''\n",
    "    \"source\": [\\n    \"{export}\\\\n\",\\n'''\n",
    "    arr = code.split('\\n')\n",
    "    for c in arr[:-1]:\n",
    "        c = c.replace('\"', '\\\\\"').replace('/', '//')\n",
    "        cell += f'    \"{c}\\\\n\",\\n'\n",
    "    last = arr[-1].replace('\"', '\\\\\"').replace('/', '//')\n",
    "    cell += f'    \"{last}\"'\n",
    "    return cell + ']},'"
   ]
  },
  {
   "cell_type": "markdown",
   "metadata": {},
   "source": [
    "This function will write a cell given some `code` (which is a str). `is_public` is there to determine if `#export` or `#exporti` should be used (a public or private function, class, or object). "
   ]
  },
  {
   "cell_type": "code",
   "execution_count": null,
   "metadata": {},
   "outputs": [],
   "source": [
    "#export\n",
    "def finish_nb() -> str:\n",
    "    \"\"\"\n",
    "    Writes the last remaining metadata for finishing a Jupyter notebook\n",
    "    \"\"\"\n",
    "    return ''']}],\n",
    "     \"metadata\": {\n",
    "  \"jupytext\": {\n",
    "   \"split_at_heading\": true\n",
    "  },\n",
    "  \"kernelspec\": {\n",
    "   \"display_name\": \"Python 3\",\n",
    "   \"language\": \"python\",\n",
    "   \"name\": \"python3\"\n",
    "  }\n",
    " },\n",
    " \"nbformat\": 4,\n",
    " \"nbformat_minor\": 4\n",
    "}\n",
    "'''"
   ]
  },
  {
   "cell_type": "code",
   "execution_count": null,
   "metadata": {},
   "outputs": [],
   "source": [
    "#export\n",
    "def write_nb(splits:list, num:int, parent:str=None, private_list:list=[]) -> str:\n",
    "    \"\"\"\n",
    "    Writes a fully converted Jupyter Notebook based on `splits` and saves it in `Config`'s `nbs_path`.\n",
    "\n",
    "    The notebook number is based on `num`\n",
    "\n",
    "    `parent` denotes if the current notebook module is based on a parent module\n",
    "    such as `moduleA.moduleB`\n",
    "    \n",
    "    `private_list` is a by-cell list of `True`/`False` for each block of code of whether it is private or public\n",
    "    \"\"\"\n",
    "    # Get filename\n",
    "    fname = splits[0][0]\n",
    "    if fname[0] == '.': fname = fname[1:]\n",
    "    if parent is not None: fname = f'{parent}.{fname}'\n",
    "\n",
    "    # Initialize and write notebook\n",
    "    nb = init_nb(fname)\n",
    "    for i, (_, code) in enumerate(splits):\n",
    "        c = write_cell(code, private_list[i])\n",
    "        nb += c\n",
    "    nb = nb[:-3] + finish_nb()\n",
    "\n",
    "    # Figure out the notebook number\n",
    "    if num < 10:\n",
    "        fname = f'0{num}_{fname}'\n",
    "    else:\n",
    "        fname = f'{num}_{fname}'\n",
    "\n",
    "    # Save notebook in `nbs_path`\n",
    "    with open(f'{Config().path(\"nbs_path\")/fname}', 'w+') as source_nb:\n",
    "        source_nb.write(nb)"
   ]
  },
  {
   "cell_type": "code",
   "execution_count": null,
   "metadata": {},
   "outputs": [],
   "source": [
    "#exporti\n",
    "def _not_private(n):\n",
    "    \"Checks if a func is private or not, alternative to nbdev's\"\n",
    "    for t in n.split('.'):\n",
    "        if (t.startswith('_') and not t.startswith('__')): return False\n",
    "    return '\\\\' not in t and '^' not in t and t != 'else'"
   ]
  },
  {
   "cell_type": "code",
   "execution_count": null,
   "metadata": {},
   "outputs": [],
   "source": [
    "#export\n",
    "@call_parse\n",
    "def convert_lib():\n",
    "    \"\"\"\n",
    "    Converts existing library to an nbdev one by autogenerating notebooks.\n",
    "    \n",
    "    Basic prerequisites:\n",
    "      - You must have made a nbdev settings.ini file beforehand\n",
    "      - Optionally you can add `# Cell` and `# Internal Cell` tags in the source files where you would like specific cells to be\n",
    "    \n",
    "    Run this command in the base of your repo\n",
    "    \n",
    "    **Can only be run once**\n",
    "    \"\"\"\n",
    "    print('Gathering files...')\n",
    "    files = nbglob(extension='.py', config_key='lib_path', recursive=True)\n",
    "    if len(files) == 0: raise ValueError(\"No files were found, please ensure that `lib_path` is configured properly in `settings.ini`\")\n",
    "    print(f'{len(files)} modules found in the library')\n",
    "    num_nbs = len(files)\n",
    "    nb_path = Config().path('nbs_path')\n",
    "    nb_path.mkdir(exist_ok=True)\n",
    "    print(f'Writing notebooks to {nb_path}...')\n",
    "    if nb_path.name == Config().lib_name:\n",
    "        nb_path = Path('')\n",
    "        slash = ''\n",
    "        \n",
    "    else:\n",
    "        nb_path = Path(nb_path.name)\n",
    "        slash = '/'\n",
    "\n",
    "    for num, file in enumerate(progress_bar(files)):\n",
    "        if (file.parent.name != Config().lib_name) and slash is not None:\n",
    "            parent = file.parent.name\n",
    "        else:\n",
    "            parent = None\n",
    "        fname = file.name.split('.py')[0] + '.ipynb'\n",
    "        if fname[0] == '.': fname = fname[1:]\n",
    "        # Initial string in the .py\n",
    "        init_str = f\"# AUTOGENERATED! DO NOT EDIT! File to edit: {nb_path}{slash}{fname} (unless otherwise specified).\\n\\n\"\n",
    "\n",
    "        # Override existing code to include nbdev magic and one code cell\n",
    "        with open(file, encoding='utf8') as f: code = f.read()\n",
    "\n",
    "        if \"AUTOGENERATED\" not in code:\n",
    "            code = init_str + code\n",
    "\n",
    "        # Check to ensure we haven't tried exporting once yet\n",
    "        if \"# Cell\" and \"# Internal Cell\" not in code and '__all__' not in code:\n",
    "            split_code = code.split('\\n')\n",
    "            private_list = []\n",
    "            _do_pass, _private, _public = False, '# Internal Cell\\n', '# Cell\\n'\n",
    "            for row, line in enumerate(split_code):\n",
    "                if _do_pass: _do_pass = False; continue\n",
    "                # Deal with decorators\n",
    "                if '@' in line:\n",
    "                    code = split_code[row+1]\n",
    "                    if code[:4] == 'def ': code = code[4:]\n",
    "                    if 'patch' in line or 'typedispatch' in line or not line[0].isspace():\n",
    "                        is_private = _not_private(code.split('(')[0])\n",
    "                        private_list.append(is_private)\n",
    "                        split_code[row] = f'{_public}{line}' if is_private else f'{_private}{line}'\n",
    "                    _do_pass = True\n",
    "                # Deal with objects\n",
    "                elif _re_obj_def.match(line) and not _do_pass:\n",
    "                    is_private = _not_private(line.split('(')[0])\n",
    "                    private_list.append(is_private)\n",
    "                    split_code[row] = f'{_public}{line}' if is_private else f'{_private}{line}'\n",
    "                # Deal with classes or functions\n",
    "                elif _re_class_func_def.match(line) and not _do_pass:\n",
    "                    is_private = _not_private(line.split(' ')[1].split('(')[0])\n",
    "                    private_list.append(is_private)\n",
    "                    split_code[row] = f'{_public}{line}' if is_private else f'{_private}{line}'\n",
    "            code = '\\n'.join(split_code)\n",
    "\n",
    "        # Write to file\n",
    "        with open(file, 'w', encoding='utf8') as f: f.write(code)\n",
    "\n",
    "        # Build notebooks\n",
    "        splits = _split(code)\n",
    "        write_nb(splits, num, parent, private_list)\n",
    "        \n",
    "        # Generate the `__all__` in the top of each .py\n",
    "        if '__all__' not in code:\n",
    "            c = code.split(\"(unless otherwise specified).\")\n",
    "            code = c[0] + \"(unless otherwise specified).\\n\" + f'\\n__all__ = {export_names(code)}\\n\\n# Cell' + c[1]\n",
    "            with open(file, 'w', encoding='utf8') as f: f.write(code)\n",
    "    print(f\"{Config().lib_name} successfully converted!\")"
   ]
  },
  {
   "cell_type": "code",
   "execution_count": null,
   "metadata": {},
   "outputs": [],
   "source": []
  }
 ],
 "metadata": {
  "kernelspec": {
   "display_name": "Python 3",
   "language": "python",
   "name": "python3"
  }
 },
 "nbformat": 4,
 "nbformat_minor": 2
}
