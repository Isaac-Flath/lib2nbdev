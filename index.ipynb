{
 "cells": [
  {
   "cell_type": "code",
   "execution_count": null,
   "metadata": {},
   "outputs": [],
   "source": [
    "#hide\n",
    "from lib2nbdev.convert import *"
   ]
  },
  {
   "cell_type": "markdown",
   "metadata": {},
   "source": [
    "# lib2nbdev\n",
    "\n",
    "> An all-inclusive package for converting your existing libraries and projects into `nbdev` ones developed by Novetta."
   ]
  },
  {
   "cell_type": "markdown",
   "metadata": {},
   "source": [
    "[nbdev](nbdev.fast.ai) is a fantastic workflow aimed at centralizing documentation, testing, and source code generation all out of one place: Jupyter Notebooks. However, what if you already have an existing project? As it stands the only way to convert your library over is through manual tasks (which can take > 30 hrs!). \n",
    "\n",
    "`lib2nbdev` is the solution!\n",
    "\n",
    "Instead, we can perform a one-time conversion on any existing library, so long as a `settings.ini` is generated in the project's core directory. Such as:\n",
    "\n",
    "- `lib2nbdev`\n",
    "  - **`settings.ini`**\n",
    "  - `lib2nbdev`\n",
    "    - `convert.py`"
   ]
  },
  {
   "cell_type": "markdown",
   "metadata": {},
   "source": [
    "## Install"
   ]
  },
  {
   "cell_type": "markdown",
   "metadata": {},
   "source": [
    "`pip install lib2nbdev`"
   ]
  },
  {
   "cell_type": "markdown",
   "metadata": {},
   "source": [
    "## How to use"
   ]
  },
  {
   "cell_type": "markdown",
   "metadata": {},
   "source": [
    "From your project directory, simply run:\n",
    "\n",
    "```python\n",
    "lib2nbdev\n",
    "```\n",
    "\n",
    "And it will automatically generate the notebooks needed, as well as privatizing any functions that may need it (anything preceding with a `_` in the name) where they shouldn't show in the generated documentation. \n",
    "\n",
    "Afterwards you have a fully-functional `nbdev` library, and can make use of all its goodies."
   ]
  },
  {
   "cell_type": "markdown",
   "metadata": {},
   "source": [
    "## Important Notice:\n",
    "\n",
    "**This is a one-time conversion, this does not allow for python -> notebook conversion, though the foundations for this functionality are here.**"
   ]
  }
 ],
 "metadata": {
  "kernelspec": {
   "display_name": "Python 3",
   "language": "python",
   "name": "python3"
  }
 },
 "nbformat": 4,
 "nbformat_minor": 2
}
